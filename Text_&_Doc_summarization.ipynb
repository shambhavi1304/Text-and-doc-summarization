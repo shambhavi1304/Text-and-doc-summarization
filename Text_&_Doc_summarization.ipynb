{
  "nbformat": 4,
  "nbformat_minor": 0,
  "metadata": {
    "colab": {
      "name": "Untitled9.ipynb",
      "provenance": [],
      "authorship_tag": "ABX9TyOT+ZpHzZbj/6mwRp6zLlMi"
    },
    "kernelspec": {
      "name": "python3",
      "display_name": "Python 3"
    }
  },
  "cells": [
    {
      "cell_type": "code",
      "metadata": {
        "id": "WIFbNOVi1oV3",
        "colab_type": "code",
        "colab": {}
      },
      "source": [
        "import spacy\n",
        "from spacy.lang.en.stop_words import STOP_WORDS"
      ],
      "execution_count": null,
      "outputs": []
    },
    {
      "cell_type": "code",
      "metadata": {
        "id": "KwJeXQDo16An",
        "colab_type": "code",
        "colab": {}
      },
      "source": [
        "doc1 = \"Machine learning (ML) is the study of computer algorithms that improve automatically through experience. It is seen as a subset of artificial intelligence. Machine learning algorithms build a mathematical model based on sample data, known as 'training data', in order to make predictions or decisions without being explicitly programmed to do so. Machine learning algorithms are used in a wide variety of applications, such as email filtering and computer vision, where it is difficult or infeasible to develop conventional algorithms to perform the needed tasks. Machine learning is closely related to computational statistics, which focuses on making predictions using computers. The study of mathematical optimization delivers methods, theory and application domains to the field of machine learning. Data mining is a related field of study, focusing on exploratory data analysis through unsupervised learning. In its application across business problems, machine learning is also referred to as predictive analytics.\""
      ],
      "execution_count": null,
      "outputs": []
    },
    {
      "cell_type": "code",
      "metadata": {
        "id": "Ql2ANOIO2En3",
        "colab_type": "code",
        "colab": {}
      },
      "source": [
        "stopwords = list(STOP_WORDS)"
      ],
      "execution_count": null,
      "outputs": []
    },
    {
      "cell_type": "code",
      "metadata": {
        "id": "03Nqrxjd2IcC",
        "colab_type": "code",
        "colab": {
          "base_uri": "https://localhost:8080/",
          "height": 1000
        },
        "outputId": "577d8517-52c8-483b-c4a0-2c1b24e8ceac"
      },
      "source": [
        "stopwords"
      ],
      "execution_count": null,
      "outputs": [
        {
          "output_type": "execute_result",
          "data": {
            "text/plain": [
              "['twelve',\n",
              " 'alone',\n",
              " 'therein',\n",
              " 'almost',\n",
              " 'my',\n",
              " 'really',\n",
              " 'former',\n",
              " '’ll',\n",
              " 'see',\n",
              " 'must',\n",
              " 'ca',\n",
              " 'how',\n",
              " 'nothing',\n",
              " 'itself',\n",
              " 'whenever',\n",
              " 'but',\n",
              " 'and',\n",
              " 'could',\n",
              " 'whereby',\n",
              " 'yours',\n",
              " 'ten',\n",
              " 'front',\n",
              " 'thus',\n",
              " 'per',\n",
              " 'noone',\n",
              " 'are',\n",
              " 'towards',\n",
              " \"'ll\",\n",
              " 'namely',\n",
              " 'your',\n",
              " 'beside',\n",
              " 'first',\n",
              " 'ever',\n",
              " 'is',\n",
              " 'the',\n",
              " 'whither',\n",
              " 'she',\n",
              " 'such',\n",
              " 'none',\n",
              " 'enough',\n",
              " \"'s\",\n",
              " 'off',\n",
              " 'thence',\n",
              " 'also',\n",
              " 'his',\n",
              " 'though',\n",
              " 'thereby',\n",
              " 'mine',\n",
              " 'keep',\n",
              " 'where',\n",
              " 'whose',\n",
              " 'whether',\n",
              " 'while',\n",
              " 'their',\n",
              " 'eight',\n",
              " 'than',\n",
              " \"'m\",\n",
              " 'its',\n",
              " 'serious',\n",
              " 'meanwhile',\n",
              " 'about',\n",
              " 'somewhere',\n",
              " 'several',\n",
              " 'often',\n",
              " 'whence',\n",
              " 'by',\n",
              " 'done',\n",
              " 'i',\n",
              " 'have',\n",
              " 'any',\n",
              " 'as',\n",
              " 'for',\n",
              " 'does',\n",
              " 'in',\n",
              " 'only',\n",
              " 'six',\n",
              " 'after',\n",
              " 'side',\n",
              " '’s',\n",
              " 'seem',\n",
              " 'our',\n",
              " 'eleven',\n",
              " 'they',\n",
              " 'so',\n",
              " 'nevertheless',\n",
              " 'besides',\n",
              " 'bottom',\n",
              " 'move',\n",
              " 'toward',\n",
              " 'all',\n",
              " 'although',\n",
              " 'that',\n",
              " 'else',\n",
              " 'hereupon',\n",
              " 'herein',\n",
              " 'n‘t',\n",
              " 'before',\n",
              " 'either',\n",
              " 'less',\n",
              " 'being',\n",
              " 'against',\n",
              " 'do',\n",
              " 'hers',\n",
              " 'mostly',\n",
              " 'neither',\n",
              " 'regarding',\n",
              " 'to',\n",
              " 'seeming',\n",
              " 'why',\n",
              " 'her',\n",
              " 'now',\n",
              " 'doing',\n",
              " 'other',\n",
              " 'ourselves',\n",
              " 'again',\n",
              " 'back',\n",
              " 'even',\n",
              " 'it',\n",
              " 'within',\n",
              " '‘m',\n",
              " 'anything',\n",
              " 'am',\n",
              " 'further',\n",
              " 'wherever',\n",
              " 'n’t',\n",
              " 'give',\n",
              " 'always',\n",
              " 'amongst',\n",
              " 'below',\n",
              " 'empty',\n",
              " 'forty',\n",
              " 'never',\n",
              " 'on',\n",
              " 'sometimes',\n",
              " 'these',\n",
              " 'fifty',\n",
              " 'this',\n",
              " 'thereafter',\n",
              " 'we',\n",
              " 'did',\n",
              " \"'d\",\n",
              " 'since',\n",
              " 'might',\n",
              " 'whole',\n",
              " 'themselves',\n",
              " 'has',\n",
              " 'indeed',\n",
              " '‘re',\n",
              " 'few',\n",
              " 'much',\n",
              " 'was',\n",
              " 'hence',\n",
              " 'be',\n",
              " 'show',\n",
              " 'each',\n",
              " \"'re\",\n",
              " 'two',\n",
              " 'became',\n",
              " 'may',\n",
              " 'into',\n",
              " 'however',\n",
              " 'used',\n",
              " 'hereafter',\n",
              " 'whom',\n",
              " 'last',\n",
              " 'until',\n",
              " 'top',\n",
              " 'beforehand',\n",
              " 'because',\n",
              " 'everywhere',\n",
              " \"n't\",\n",
              " 'becomes',\n",
              " 'out',\n",
              " 'five',\n",
              " 'anywhere',\n",
              " 'you',\n",
              " \"'ve\",\n",
              " 'various',\n",
              " 'both',\n",
              " 'he',\n",
              " 'whoever',\n",
              " 'at',\n",
              " 'across',\n",
              " 'once',\n",
              " 'will',\n",
              " 'nor',\n",
              " 'here',\n",
              " '’d',\n",
              " '’m',\n",
              " 'hundred',\n",
              " 're',\n",
              " 'sometime',\n",
              " 'next',\n",
              " 'of',\n",
              " 'onto',\n",
              " 'down',\n",
              " 'ours',\n",
              " 'himself',\n",
              " 'four',\n",
              " 'above',\n",
              " 'around',\n",
              " 'everyone',\n",
              " 'nine',\n",
              " 'some',\n",
              " 'another',\n",
              " 'formerly',\n",
              " 'please',\n",
              " 'therefore',\n",
              " 'too',\n",
              " 'becoming',\n",
              " 'fifteen',\n",
              " 'somehow',\n",
              " 'been',\n",
              " 'not',\n",
              " 'third',\n",
              " 'elsewhere',\n",
              " 'among',\n",
              " 'myself',\n",
              " 'through',\n",
              " 'us',\n",
              " 'go',\n",
              " 'from',\n",
              " '‘d',\n",
              " 'if',\n",
              " 'who',\n",
              " 'most',\n",
              " 'no',\n",
              " 'via',\n",
              " 'during',\n",
              " 'put',\n",
              " 'them',\n",
              " 'using',\n",
              " 'well',\n",
              " '‘s',\n",
              " 'seemed',\n",
              " 'unless',\n",
              " 'beyond',\n",
              " 'made',\n",
              " '‘ve',\n",
              " 'cannot',\n",
              " 'same',\n",
              " 'make',\n",
              " 'behind',\n",
              " 'can',\n",
              " 'seems',\n",
              " 'anyway',\n",
              " 'together',\n",
              " 'whereas',\n",
              " 'herself',\n",
              " 'an',\n",
              " 'perhaps',\n",
              " 'quite',\n",
              " 'latter',\n",
              " 'then',\n",
              " 'under',\n",
              " 'without',\n",
              " 'yet',\n",
              " 'between',\n",
              " 'or',\n",
              " 'get',\n",
              " 'say',\n",
              " 'take',\n",
              " 'were',\n",
              " 'with',\n",
              " 'name',\n",
              " 'part',\n",
              " 'along',\n",
              " 'rather',\n",
              " 'upon',\n",
              " 'whereafter',\n",
              " 'whereupon',\n",
              " '’ve',\n",
              " 'twenty',\n",
              " '’re',\n",
              " 'a',\n",
              " 'something',\n",
              " 'there',\n",
              " 'afterwards',\n",
              " 'own',\n",
              " 'those',\n",
              " 'every',\n",
              " 'had',\n",
              " 'latterly',\n",
              " 'nobody',\n",
              " 'except',\n",
              " 'sixty',\n",
              " 'three',\n",
              " 'over',\n",
              " 'already',\n",
              " 'would',\n",
              " 'yourselves',\n",
              " '‘ll',\n",
              " 'thereupon',\n",
              " 'yourself',\n",
              " 'anyhow',\n",
              " 'just',\n",
              " 'many',\n",
              " 'throughout',\n",
              " 'thru',\n",
              " 'what',\n",
              " 'hereby',\n",
              " 'full',\n",
              " 'should',\n",
              " 'nowhere',\n",
              " 'very',\n",
              " 'become',\n",
              " 'which',\n",
              " 'anyone',\n",
              " 'whatever',\n",
              " 'amount',\n",
              " 'due',\n",
              " 'wherein',\n",
              " 'least',\n",
              " 'one',\n",
              " 'others',\n",
              " 'when',\n",
              " 'everything',\n",
              " 'me',\n",
              " 'someone',\n",
              " 'moreover',\n",
              " 'up',\n",
              " 'him',\n",
              " 'more',\n",
              " 'otherwise',\n",
              " 'still',\n",
              " 'call']"
            ]
          },
          "metadata": {
            "tags": []
          },
          "execution_count": 6
        }
      ]
    },
    {
      "cell_type": "code",
      "metadata": {
        "id": "8jfcodaE2Jpn",
        "colab_type": "code",
        "colab": {
          "base_uri": "https://localhost:8080/",
          "height": 34
        },
        "outputId": "f65d94c6-8177-44a8-c1fd-5bcc309603aa"
      },
      "source": [
        "len(stopwords)"
      ],
      "execution_count": null,
      "outputs": [
        {
          "output_type": "execute_result",
          "data": {
            "text/plain": [
              "326"
            ]
          },
          "metadata": {
            "tags": []
          },
          "execution_count": 7
        }
      ]
    },
    {
      "cell_type": "code",
      "metadata": {
        "id": "eIGb7ELy2NuN",
        "colab_type": "code",
        "colab": {}
      },
      "source": [
        "nlp = spacy.load('en')"
      ],
      "execution_count": null,
      "outputs": []
    },
    {
      "cell_type": "code",
      "metadata": {
        "id": "piKrEKtl2dik",
        "colab_type": "code",
        "colab": {}
      },
      "source": [
        "docx  = nlp(doc1)"
      ],
      "execution_count": null,
      "outputs": []
    },
    {
      "cell_type": "code",
      "metadata": {
        "id": "oNZi5X-H2kaR",
        "colab_type": "code",
        "colab": {
          "base_uri": "https://localhost:8080/",
          "height": 1000
        },
        "outputId": "fc762524-0fb2-4bff-b36c-ab2120b52553"
      },
      "source": [
        "for token in docx:\n",
        "  print(token.text)\n"
      ],
      "execution_count": null,
      "outputs": [
        {
          "output_type": "stream",
          "text": [
            "Machine\n",
            "learning\n",
            "(\n",
            "ML\n",
            ")\n",
            "is\n",
            "the\n",
            "study\n",
            "of\n",
            "computer\n",
            "algorithms\n",
            "that\n",
            "improve\n",
            "automatically\n",
            "through\n",
            "experience\n",
            ".\n",
            "It\n",
            "is\n",
            "seen\n",
            "as\n",
            "a\n",
            "subset\n",
            "of\n",
            "artificial\n",
            "intelligence\n",
            ".\n",
            "Machine\n",
            "learning\n",
            "algorithms\n",
            "build\n",
            "a\n",
            "mathematical\n",
            "model\n",
            "based\n",
            "on\n",
            "sample\n",
            "data\n",
            ",\n",
            "known\n",
            "as\n",
            "'\n",
            "training\n",
            "data\n",
            "'\n",
            ",\n",
            "in\n",
            "order\n",
            "to\n",
            "make\n",
            "predictions\n",
            "or\n",
            "decisions\n",
            "without\n",
            "being\n",
            "explicitly\n",
            "programmed\n",
            "to\n",
            "do\n",
            "so\n",
            ".\n",
            "Machine\n",
            "learning\n",
            "algorithms\n",
            "are\n",
            "used\n",
            "in\n",
            "a\n",
            "wide\n",
            "variety\n",
            "of\n",
            "applications\n",
            ",\n",
            "such\n",
            "as\n",
            "email\n",
            "filtering\n",
            "and\n",
            "computer\n",
            "vision\n",
            ",\n",
            "where\n",
            "it\n",
            "is\n",
            "difficult\n",
            "or\n",
            "infeasible\n",
            "to\n",
            "develop\n",
            "conventional\n",
            "algorithms\n",
            "to\n",
            "perform\n",
            "the\n",
            "needed\n",
            "tasks\n",
            ".\n",
            "Machine\n",
            "learning\n",
            "is\n",
            "closely\n",
            "related\n",
            "to\n",
            "computational\n",
            "statistics\n",
            ",\n",
            "which\n",
            "focuses\n",
            "on\n",
            "making\n",
            "predictions\n",
            "using\n",
            "computers\n",
            ".\n",
            "The\n",
            "study\n",
            "of\n",
            "mathematical\n",
            "optimization\n",
            "delivers\n",
            "methods\n",
            ",\n",
            "theory\n",
            "and\n",
            "application\n",
            "domains\n",
            "to\n",
            "the\n",
            "field\n",
            "of\n",
            "machine\n",
            "learning\n",
            ".\n",
            "Data\n",
            "mining\n",
            "is\n",
            "a\n",
            "related\n",
            "field\n",
            "of\n",
            "study\n",
            ",\n",
            "focusing\n",
            "on\n",
            "exploratory\n",
            "data\n",
            "analysis\n",
            "through\n",
            "unsupervised\n",
            "learning\n",
            ".\n",
            "In\n",
            "its\n",
            "application\n",
            "across\n",
            "business\n",
            "problems\n",
            ",\n",
            "machine\n",
            "learning\n",
            "is\n",
            "also\n",
            "referred\n",
            "to\n",
            "as\n",
            "predictive\n",
            "analytics\n",
            ".\n"
          ],
          "name": "stdout"
        }
      ]
    },
    {
      "cell_type": "code",
      "metadata": {
        "id": "NUyQlo553O1q",
        "colab_type": "code",
        "colab": {}
      },
      "source": [
        "word_frequencies = {}\n",
        "for word in docx:\n",
        "  if word.text not in stopwords:\n",
        "    if word.text not in word_frequencies.keys():\n",
        "      word_frequencies[word.text] = 1\n",
        "    else:\n",
        "      word_frequencies[word.text] +=1"
      ],
      "execution_count": null,
      "outputs": []
    },
    {
      "cell_type": "code",
      "metadata": {
        "id": "TkrToyxh36YZ",
        "colab_type": "code",
        "colab": {
          "base_uri": "https://localhost:8080/",
          "height": 1000
        },
        "outputId": "5d3783be-1191-40fb-d6c3-67c105a761c7"
      },
      "source": [
        "word_frequencies"
      ],
      "execution_count": null,
      "outputs": [
        {
          "output_type": "execute_result",
          "data": {
            "text/plain": [
              "{\"'\": 2,\n",
              " '(': 1,\n",
              " ')': 1,\n",
              " ',': 8,\n",
              " '.': 8,\n",
              " 'Data': 1,\n",
              " 'In': 1,\n",
              " 'It': 1,\n",
              " 'ML': 1,\n",
              " 'Machine': 4,\n",
              " 'The': 1,\n",
              " 'algorithms': 4,\n",
              " 'analysis': 1,\n",
              " 'analytics': 1,\n",
              " 'application': 2,\n",
              " 'applications': 1,\n",
              " 'artificial': 1,\n",
              " 'automatically': 1,\n",
              " 'based': 1,\n",
              " 'build': 1,\n",
              " 'business': 1,\n",
              " 'closely': 1,\n",
              " 'computational': 1,\n",
              " 'computer': 2,\n",
              " 'computers': 1,\n",
              " 'conventional': 1,\n",
              " 'data': 3,\n",
              " 'decisions': 1,\n",
              " 'delivers': 1,\n",
              " 'develop': 1,\n",
              " 'difficult': 1,\n",
              " 'domains': 1,\n",
              " 'email': 1,\n",
              " 'experience': 1,\n",
              " 'explicitly': 1,\n",
              " 'exploratory': 1,\n",
              " 'field': 2,\n",
              " 'filtering': 1,\n",
              " 'focuses': 1,\n",
              " 'focusing': 1,\n",
              " 'improve': 1,\n",
              " 'infeasible': 1,\n",
              " 'intelligence': 1,\n",
              " 'known': 1,\n",
              " 'learning': 7,\n",
              " 'machine': 2,\n",
              " 'making': 1,\n",
              " 'mathematical': 2,\n",
              " 'methods': 1,\n",
              " 'mining': 1,\n",
              " 'model': 1,\n",
              " 'needed': 1,\n",
              " 'optimization': 1,\n",
              " 'order': 1,\n",
              " 'perform': 1,\n",
              " 'predictions': 2,\n",
              " 'predictive': 1,\n",
              " 'problems': 1,\n",
              " 'programmed': 1,\n",
              " 'referred': 1,\n",
              " 'related': 2,\n",
              " 'sample': 1,\n",
              " 'seen': 1,\n",
              " 'statistics': 1,\n",
              " 'study': 3,\n",
              " 'subset': 1,\n",
              " 'tasks': 1,\n",
              " 'theory': 1,\n",
              " 'training': 1,\n",
              " 'unsupervised': 1,\n",
              " 'variety': 1,\n",
              " 'vision': 1,\n",
              " 'wide': 1}"
            ]
          },
          "metadata": {
            "tags": []
          },
          "execution_count": 41
        }
      ]
    },
    {
      "cell_type": "code",
      "metadata": {
        "id": "Fll5LIh738Yb",
        "colab_type": "code",
        "colab": {}
      },
      "source": [
        "maximum_frequency = max(word_frequencies.values())"
      ],
      "execution_count": null,
      "outputs": []
    },
    {
      "cell_type": "code",
      "metadata": {
        "id": "BIbzW_ee45Pq",
        "colab_type": "code",
        "colab": {
          "base_uri": "https://localhost:8080/",
          "height": 34
        },
        "outputId": "02e4d4c5-c78b-468e-b766-efdcf7fee329"
      },
      "source": [
        "maximum_frequency"
      ],
      "execution_count": null,
      "outputs": [
        {
          "output_type": "execute_result",
          "data": {
            "text/plain": [
              "8"
            ]
          },
          "metadata": {
            "tags": []
          },
          "execution_count": 43
        }
      ]
    },
    {
      "cell_type": "code",
      "metadata": {
        "id": "e2stTPsf47UC",
        "colab_type": "code",
        "colab": {}
      },
      "source": [
        "for word in word_frequencies.keys():\n",
        "  word_frequencies[word] = (word_frequencies[word]/maximum_frequency)"
      ],
      "execution_count": null,
      "outputs": []
    },
    {
      "cell_type": "code",
      "metadata": {
        "id": "AquM8xUH5LTq",
        "colab_type": "code",
        "colab": {
          "base_uri": "https://localhost:8080/",
          "height": 1000
        },
        "outputId": "d3e3603e-9e33-4fb0-9ee2-2d82923ddbaa"
      },
      "source": [
        "word_frequencies"
      ],
      "execution_count": null,
      "outputs": [
        {
          "output_type": "execute_result",
          "data": {
            "text/plain": [
              "{\"'\": 0.25,\n",
              " '(': 0.125,\n",
              " ')': 0.125,\n",
              " ',': 1.0,\n",
              " '.': 1.0,\n",
              " 'Data': 0.125,\n",
              " 'In': 0.125,\n",
              " 'It': 0.125,\n",
              " 'ML': 0.125,\n",
              " 'Machine': 0.5,\n",
              " 'The': 0.125,\n",
              " 'algorithms': 0.5,\n",
              " 'analysis': 0.125,\n",
              " 'analytics': 0.125,\n",
              " 'application': 0.25,\n",
              " 'applications': 0.125,\n",
              " 'artificial': 0.125,\n",
              " 'automatically': 0.125,\n",
              " 'based': 0.125,\n",
              " 'build': 0.125,\n",
              " 'business': 0.125,\n",
              " 'closely': 0.125,\n",
              " 'computational': 0.125,\n",
              " 'computer': 0.25,\n",
              " 'computers': 0.125,\n",
              " 'conventional': 0.125,\n",
              " 'data': 0.375,\n",
              " 'decisions': 0.125,\n",
              " 'delivers': 0.125,\n",
              " 'develop': 0.125,\n",
              " 'difficult': 0.125,\n",
              " 'domains': 0.125,\n",
              " 'email': 0.125,\n",
              " 'experience': 0.125,\n",
              " 'explicitly': 0.125,\n",
              " 'exploratory': 0.125,\n",
              " 'field': 0.25,\n",
              " 'filtering': 0.125,\n",
              " 'focuses': 0.125,\n",
              " 'focusing': 0.125,\n",
              " 'improve': 0.125,\n",
              " 'infeasible': 0.125,\n",
              " 'intelligence': 0.125,\n",
              " 'known': 0.125,\n",
              " 'learning': 0.875,\n",
              " 'machine': 0.25,\n",
              " 'making': 0.125,\n",
              " 'mathematical': 0.25,\n",
              " 'methods': 0.125,\n",
              " 'mining': 0.125,\n",
              " 'model': 0.125,\n",
              " 'needed': 0.125,\n",
              " 'optimization': 0.125,\n",
              " 'order': 0.125,\n",
              " 'perform': 0.125,\n",
              " 'predictions': 0.25,\n",
              " 'predictive': 0.125,\n",
              " 'problems': 0.125,\n",
              " 'programmed': 0.125,\n",
              " 'referred': 0.125,\n",
              " 'related': 0.25,\n",
              " 'sample': 0.125,\n",
              " 'seen': 0.125,\n",
              " 'statistics': 0.125,\n",
              " 'study': 0.375,\n",
              " 'subset': 0.125,\n",
              " 'tasks': 0.125,\n",
              " 'theory': 0.125,\n",
              " 'training': 0.125,\n",
              " 'unsupervised': 0.125,\n",
              " 'variety': 0.125,\n",
              " 'vision': 0.125,\n",
              " 'wide': 0.125}"
            ]
          },
          "metadata": {
            "tags": []
          },
          "execution_count": 45
        }
      ]
    },
    {
      "cell_type": "code",
      "metadata": {
        "id": "LkI0znxw5fLj",
        "colab_type": "code",
        "colab": {}
      },
      "source": [
        "sentence_list = [ sentence for sentence in docx.sents]"
      ],
      "execution_count": null,
      "outputs": []
    },
    {
      "cell_type": "code",
      "metadata": {
        "id": "UlWGH2bq5oex",
        "colab_type": "code",
        "colab": {}
      },
      "source": [
        "sentence_scores = {}\n",
        "for sent in sentence_list:\n",
        "  for word in sent:\n",
        "    if word.text.lower() in word_frequencies.keys():\n",
        "      if len(sent.text.split(' ')) < 30:\n",
        "        if sent not in sentence_scores.keys():\n",
        "          sentence_scores[sent] = word_frequencies[word.text.lower()]\n",
        "        else:\n",
        "           sentence_scores[sent] += word_frequencies[word.text.lower()]"
      ],
      "execution_count": null,
      "outputs": []
    },
    {
      "cell_type": "code",
      "metadata": {
        "id": "5lasIOXg6cOf",
        "colab_type": "code",
        "colab": {
          "base_uri": "https://localhost:8080/",
          "height": 156
        },
        "outputId": "7f2bd0b6-bdd6-4b10-c7f8-cfebb0c4b279"
      },
      "source": [
        "sentence_scores"
      ],
      "execution_count": null,
      "outputs": [
        {
          "output_type": "execute_result",
          "data": {
            "text/plain": [
              "{Machine learning (ML) is the study of computer algorithms that improve automatically through experience.: 3.875,\n",
              " It is seen as a subset of artificial intelligence.: 1.5,\n",
              " Machine learning algorithms build a mathematical model based on sample data, known as 'training data', in order to make predictions or decisions without being explicitly programmed to do so.: 7.625,\n",
              " Machine learning is closely related to computational statistics, which focuses on making predictions using computers.: 4.375,\n",
              " The study of mathematical optimization delivers methods, theory and application domains to the field of machine learning.: 4.875,\n",
              " Data mining is a related field of study, focusing on exploratory data analysis through unsupervised learning.: 5.125,\n",
              " In its application across business problems, machine learning is also referred to as predictive analytics.: 4.0}"
            ]
          },
          "metadata": {
            "tags": []
          },
          "execution_count": 48
        }
      ]
    },
    {
      "cell_type": "code",
      "metadata": {
        "id": "Ta_mUPLM60NZ",
        "colab_type": "code",
        "colab": {}
      },
      "source": [
        "from heapq import nlargest"
      ],
      "execution_count": null,
      "outputs": []
    },
    {
      "cell_type": "code",
      "metadata": {
        "id": "kAmaSV686el7",
        "colab_type": "code",
        "colab": {}
      },
      "source": [
        "summarized_sentences = nlargest(7,sentence_scores,key=sentence_scores.get)"
      ],
      "execution_count": null,
      "outputs": []
    },
    {
      "cell_type": "code",
      "metadata": {
        "id": "lwsHnred6uyV",
        "colab_type": "code",
        "colab": {
          "base_uri": "https://localhost:8080/",
          "height": 156
        },
        "outputId": "f0328531-ab15-4050-cb82-a4beb44c224c"
      },
      "source": [
        "summarized_sentences"
      ],
      "execution_count": null,
      "outputs": [
        {
          "output_type": "execute_result",
          "data": {
            "text/plain": [
              "[Machine learning algorithms build a mathematical model based on sample data, known as 'training data', in order to make predictions or decisions without being explicitly programmed to do so.,\n",
              " Data mining is a related field of study, focusing on exploratory data analysis through unsupervised learning.,\n",
              " The study of mathematical optimization delivers methods, theory and application domains to the field of machine learning.,\n",
              " Machine learning is closely related to computational statistics, which focuses on making predictions using computers.,\n",
              " In its application across business problems, machine learning is also referred to as predictive analytics.,\n",
              " Machine learning (ML) is the study of computer algorithms that improve automatically through experience.,\n",
              " It is seen as a subset of artificial intelligence.]"
            ]
          },
          "metadata": {
            "tags": []
          },
          "execution_count": 51
        }
      ]
    },
    {
      "cell_type": "code",
      "metadata": {
        "id": "SIZ562Wd7Ep1",
        "colab_type": "code",
        "colab": {}
      },
      "source": [
        "final_sentences = [w.text for w in summarized_sentences]"
      ],
      "execution_count": null,
      "outputs": []
    },
    {
      "cell_type": "code",
      "metadata": {
        "id": "eIDyQg0_7ULO",
        "colab_type": "code",
        "colab": {}
      },
      "source": [
        "summary = ' '.join(final_sentences)"
      ],
      "execution_count": null,
      "outputs": []
    },
    {
      "cell_type": "code",
      "metadata": {
        "id": "vfrTM5-v7amW",
        "colab_type": "code",
        "colab": {
          "base_uri": "https://localhost:8080/",
          "height": 120
        },
        "outputId": "64b29082-e21d-4a12-a594-a0c8a51a8078"
      },
      "source": [
        "summary"
      ],
      "execution_count": null,
      "outputs": [
        {
          "output_type": "execute_result",
          "data": {
            "application/vnd.google.colaboratory.intrinsic": {
              "type": "string"
            },
            "text/plain": [
              "\"Machine learning algorithms build a mathematical model based on sample data, known as 'training data', in order to make predictions or decisions without being explicitly programmed to do so. Data mining is a related field of study, focusing on exploratory data analysis through unsupervised learning. The study of mathematical optimization delivers methods, theory and application domains to the field of machine learning. Machine learning is closely related to computational statistics, which focuses on making predictions using computers. In its application across business problems, machine learning is also referred to as predictive analytics. Machine learning (ML) is the study of computer algorithms that improve automatically through experience. It is seen as a subset of artificial intelligence.\""
            ]
          },
          "metadata": {
            "tags": []
          },
          "execution_count": 54
        }
      ]
    },
    {
      "cell_type": "code",
      "metadata": {
        "id": "1ZihU0-Z7dgC",
        "colab_type": "code",
        "colab": {
          "base_uri": "https://localhost:8080/",
          "height": 34
        },
        "outputId": "9aed6d0c-c611-48f5-9c77-5350ce6c3f6d"
      },
      "source": [
        "len(doc1)"
      ],
      "execution_count": null,
      "outputs": [
        {
          "output_type": "execute_result",
          "data": {
            "text/plain": [
              "1020"
            ]
          },
          "metadata": {
            "tags": []
          },
          "execution_count": 55
        }
      ]
    },
    {
      "cell_type": "code",
      "metadata": {
        "id": "xLV6IVYK7iyW",
        "colab_type": "code",
        "colab": {
          "base_uri": "https://localhost:8080/",
          "height": 34
        },
        "outputId": "08cec558-d4ee-452a-b72a-37f16d007a87"
      },
      "source": [
        "len(summary)"
      ],
      "execution_count": null,
      "outputs": [
        {
          "output_type": "execute_result",
          "data": {
            "text/plain": [
              "803"
            ]
          },
          "metadata": {
            "tags": []
          },
          "execution_count": 56
        }
      ]
    },
    {
      "cell_type": "code",
      "metadata": {
        "id": "hx88sBwf7lZu",
        "colab_type": "code",
        "colab": {}
      },
      "source": [
        ""
      ],
      "execution_count": null,
      "outputs": []
    }
  ]
}